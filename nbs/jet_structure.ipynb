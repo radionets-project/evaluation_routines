{
 "cells": [
  {
   "cell_type": "code",
   "execution_count": 1,
   "id": "95d5958b",
   "metadata": {},
   "outputs": [],
   "source": [
    "from pathlib import Path\n",
    "from radiosim.data import radiosim_data\n"
   ]
  },
  {
   "cell_type": "code",
   "execution_count": 2,
   "id": "b00c28db",
   "metadata": {},
   "outputs": [],
   "source": [
    "sim_moj = Path(\"../resources/sim_moj\")"
   ]
  },
  {
   "cell_type": "code",
   "execution_count": 3,
   "id": "ee5cc289",
   "metadata": {},
   "outputs": [],
   "source": [
    "moj_sources = radiosim_data(sim_moj)"
   ]
  },
  {
   "cell_type": "code",
   "execution_count": null,
   "id": "837aa4f8",
   "metadata": {},
   "outputs": [],
   "source": []
  },
  {
   "cell_type": "code",
   "execution_count": null,
   "id": "e31a9ad9",
   "metadata": {},
   "outputs": [],
   "source": []
  },
  {
   "cell_type": "code",
   "execution_count": null,
   "id": "6ffd281a",
   "metadata": {},
   "outputs": [],
   "source": []
  },
  {
   "cell_type": "code",
   "execution_count": null,
   "id": "e4f2dba0",
   "metadata": {},
   "outputs": [],
   "source": []
  },
  {
   "cell_type": "code",
   "execution_count": null,
   "id": "4f365198",
   "metadata": {},
   "outputs": [],
   "source": []
  },
  {
   "cell_type": "code",
   "execution_count": null,
   "id": "1c2ed945",
   "metadata": {},
   "outputs": [],
   "source": []
  },
  {
   "cell_type": "code",
   "execution_count": null,
   "id": "07e1033b",
   "metadata": {},
   "outputs": [],
   "source": []
  },
  {
   "cell_type": "code",
   "execution_count": null,
   "id": "48d099eb",
   "metadata": {},
   "outputs": [],
   "source": []
  }
 ],
 "metadata": {
  "kernelspec": {
   "display_name": "Python 3 (ipykernel)",
   "language": "python",
   "name": "python3"
  },
  "language_info": {
   "codemirror_mode": {
    "name": "ipython",
    "version": 3
   },
   "file_extension": ".py",
   "mimetype": "text/x-python",
   "name": "python",
   "nbconvert_exporter": "python",
   "pygments_lexer": "ipython3",
   "version": "3.9.7"
  }
 },
 "nbformat": 4,
 "nbformat_minor": 5
}
